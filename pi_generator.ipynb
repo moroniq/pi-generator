{
 "cells": [
  {
   "cell_type": "code",
   "execution_count": null,
   "id": "666bd9cc-eead-40ac-ae39-9ab36371cda6",
   "metadata": {},
   "outputs": [],
   "source": [
    "###Find PI to the Nth Digit - \n",
    "###Enter a number and have the program generate π (pi) up to that many decimal places. \n",
    "###Keep a limit to how far the program will go."
   ]
  },
  {
   "cell_type": "code",
   "execution_count": 5,
   "id": "64037c9e-a2dd-4d76-b1a5-aa7f94f91d81",
   "metadata": {},
   "outputs": [],
   "source": [
    "from math import pi"
   ]
  },
  {
   "cell_type": "code",
   "execution_count": 7,
   "id": "5fcf16c2-7cfc-4ffd-abb3-84f3a20b0a6b",
   "metadata": {},
   "outputs": [
    {
     "data": {
      "text/plain": [
       "3.141592653589793"
      ]
     },
     "execution_count": 7,
     "metadata": {},
     "output_type": "execute_result"
    }
   ],
   "source": [
    "pi"
   ]
  },
  {
   "cell_type": "code",
   "execution_count": 35,
   "id": "4514a1e1-8f47-4708-8fd0-e0711c50da44",
   "metadata": {},
   "outputs": [],
   "source": [
    "from math import pi\n",
    "\n",
    "def decimals_for_pi():\n",
    "    try:\n",
    "        x = int(input(\"Enter the number of decimal places for pi: \"))\n",
    "        if x < 0:\n",
    "            print(\"Please enter a non-negative number.\")\n",
    "        elif x > 100:\n",
    "            print(\"Sorry, the maximum supported decimal places is 100.\")\n",
    "        else:\n",
    "            print(f\"Pi to {x} decimal places is {pi:.{x}f}\")\n",
    "    except ValueError:\n",
    "        print(\"Please enter a valid integer.\")"
   ]
  },
  {
   "cell_type": "code",
   "execution_count": 37,
   "id": "860d01f0-6bf7-427e-ab29-f1872a42b5e5",
   "metadata": {},
   "outputs": [
    {
     "name": "stdin",
     "output_type": "stream",
     "text": [
      "Enter the number of decimal places for pi:  100\n"
     ]
    },
    {
     "name": "stdout",
     "output_type": "stream",
     "text": [
      "Pi to 100 decimal places is 3.1415926535897931159979634685441851615905761718750000000000000000000000000000000000000000000000000000\n"
     ]
    }
   ],
   "source": [
    "decimalsforpi()"
   ]
  },
  {
   "cell_type": "code",
   "execution_count": null,
   "id": "1e9a0be3-e2ba-401a-8ebf-6da92f3d0d87",
   "metadata": {},
   "outputs": [],
   "source": []
  }
 ],
 "metadata": {
  "kernelspec": {
   "display_name": "Python [conda env:base] *",
   "language": "python",
   "name": "conda-base-py"
  },
  "language_info": {
   "codemirror_mode": {
    "name": "ipython",
    "version": 3
   },
   "file_extension": ".py",
   "mimetype": "text/x-python",
   "name": "python",
   "nbconvert_exporter": "python",
   "pygments_lexer": "ipython3",
   "version": "3.12.7"
  }
 },
 "nbformat": 4,
 "nbformat_minor": 5
}
